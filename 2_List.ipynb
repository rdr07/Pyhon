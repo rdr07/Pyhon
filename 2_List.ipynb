{
 "cells": [
  {
   "cell_type": "markdown",
   "id": "d582fa70",
   "metadata": {},
   "source": [
    "# Lists"
   ]
  },
  {
   "cell_type": "code",
   "execution_count": null,
   "id": "28fa2b44",
   "metadata": {},
   "outputs": [],
   "source": [
    "{\n",
    "age=\n",
    "gender=\n",
    "loc=\n",
    "}"
   ]
  },
  {
   "cell_type": "markdown",
   "id": "8d4c19ad",
   "metadata": {},
   "source": [
    "## Agenda\n",
    "\n",
    "1. Introduction to Python lists\n",
    "    - What are lists?\n",
    "    - Why are they useful?\n",
    "    - How to create a list\n",
    "2. Accessing and manipulating list elements\n",
    "    - Indexing and slicing\n",
    "    - Adding and removing elements\n",
    "    - Updating elements\n",
    "3. Common list methods and functions\n",
    "    - Sorting and reversing lists\n",
    "    - Counting and finding elements\n",
    "    - Merging and copying lists\n",
    "4. List comprehension\n",
    "    - Syntax and structure\n",
    "    - Applications and use cases\n",
    "5. Best practices for working with lists\n",
    "    - Efficient memory usage\n",
    "    - Error handling and debugging\n",
    "    - Code readability and maintainability\n"
   ]
  },
  {
   "cell_type": "markdown",
   "id": "ba262564",
   "metadata": {},
   "source": [
    "# Introduction to Python lists\n",
    "<hr>\n",
    "<div style=\"font-size:15px\">\n",
    "Picture this😎: you're at a massive outdoor festival 🎵🎶, surrounded by hundreds of people, each carrying a colorful balloon🎈,. Some balloons are red, some are green, some are blue, and some are a mix of colors. As you walk through the crowd, you notice that some people are holding just one balloon, while others are holding several.\n",
    "\n",
    "Now imagine that each of those balloons is actually a Python list. Each list can hold any number of items, just like each person can hold any number of balloons. And just like the balloons, each item in a list can be a different color, representing a different data type or value.\n",
    "\n",
    "Think about it - just like how you can sort balloons by color or count how many people are holding green balloons, you can sort and manipulate lists in Python. It's like having your own virtual balloon festival, where you can organize and analyze all the data you want!\n",
    "\n",
    "Python lists are a powerful tool for working with collections of data, whether you're managing your to-do list, analyzing sales data, or building a complex software application. And just like the balloons at the festival, Python lists can be as simple or complex as you need them to be.\n",
    "\n",
    "So, let's dive into the world of Python lists and see how they can help you organize and analyze your data, just like a colorful balloon festival!\n",
    "</div>"
   ]
  },
  {
   "cell_type": "code",
   "execution_count": null,
   "id": "4344b68c",
   "metadata": {},
   "outputs": [],
   "source": []
  },
  {
   "cell_type": "markdown",
   "id": "d9e02afe",
   "metadata": {},
   "source": []
  },
  {
   "cell_type": "code",
   "execution_count": 2,
   "id": "1d35f6e2",
   "metadata": {},
   "outputs": [
    {
     "name": "stdout",
     "output_type": "stream",
     "text": [
      "['False', 'None', 'True', '__peg_parser__', 'and', 'as', 'assert', 'async', 'await', 'break', 'class', 'continue', 'def', 'del', 'elif', 'else', 'except', 'finally', 'for', 'from', 'global', 'if', 'import', 'in', 'is', 'lambda', 'nonlocal', 'not', 'or', 'pass', 'raise', 'return', 'try', 'while', 'with', 'yield']\n"
     ]
    }
   ],
   "source": [
    "import keyword\n",
    "print(keyword.kwlist)"
   ]
  },
  {
   "cell_type": "code",
   "execution_count": 1,
   "id": "2ba8f9e7",
   "metadata": {
    "scrolled": true
   },
   "outputs": [
    {
     "name": "stdout",
     "output_type": "stream",
     "text": [
      "<class 'list'>\n"
     ]
    }
   ],
   "source": [
    "# 1. list\n",
    "\n",
    "list1=[]\n",
    "list2=list()\n",
    "type(list1)\n",
    "\n",
    "print(type(list2))"
   ]
  },
  {
   "cell_type": "code",
   "execution_count": null,
   "id": "c32f3ec3",
   "metadata": {},
   "outputs": [],
   "source": [
    "# Ways to create slist "
   ]
  },
  {
   "cell_type": "code",
   "execution_count": 4,
   "id": "0e5f764d",
   "metadata": {},
   "outputs": [],
   "source": [
    "# list=123"
   ]
  },
  {
   "cell_type": "code",
   "execution_count": 6,
   "id": "2d5808eb",
   "metadata": {},
   "outputs": [
    {
     "ename": "SyntaxError",
     "evalue": "cannot assign to False (3616536113.py, line 1)",
     "output_type": "error",
     "traceback": [
      "\u001b[1;36m  Cell \u001b[1;32mIn[6], line 1\u001b[1;36m\u001b[0m\n\u001b[1;33m    False=1\u001b[0m\n\u001b[1;37m    ^\u001b[0m\n\u001b[1;31mSyntaxError\u001b[0m\u001b[1;31m:\u001b[0m cannot assign to False\n"
     ]
    }
   ],
   "source": [
    "False=1\n",
    "not=2"
   ]
  },
  {
   "cell_type": "code",
   "execution_count": 6,
   "id": "d399f135",
   "metadata": {},
   "outputs": [
    {
     "data": {
      "text/plain": [
       "[0, 1, 2, 3, 4, 5, 6, 7, 8, 9]"
      ]
     },
     "execution_count": 6,
     "metadata": {},
     "output_type": "execute_result"
    }
   ],
   "source": [
    "[i for i in range(10)]"
   ]
  },
  {
   "cell_type": "code",
   "execution_count": 5,
   "id": "84c66fcc",
   "metadata": {},
   "outputs": [
    {
     "name": "stdout",
     "output_type": "stream",
     "text": [
      "['Lemon', 'bread', 'butter', 'sakhar', 1, 1.0]\n"
     ]
    }
   ],
   "source": [
    "groceries=['Lemon','bread','butter','sakhar',1,1.0]\n",
    "\n",
    "print(groceries)"
   ]
  },
  {
   "cell_type": "markdown",
   "id": "49c1eda3",
   "metadata": {},
   "source": [
    "# Accessing and manipulating list elements"
   ]
  },
  {
   "cell_type": "markdown",
   "id": "8ac922c9",
   "metadata": {},
   "source": [
    "\n",
    "Imagine you're at a grand buffet, surrounded by all sorts of delicious food. As you peruse the different dishes, you notice that some of the items are arranged in small, individual containers, while others are in large platters that serve many people.\n",
    "\n",
    "Just like the dishes at the buffet, Python lists can contain multiple elements, each one representing a different value or piece of information. And just like how you can access and manipulate the different dishes on the buffet, you can access and manipulate the elements in a Python list.\n",
    "\n",
    "Think about it - just like how you can add more food to a platter, remove a single item from a container, or rearrange the order of dishes on the buffet, you can add, remove, and rearrange elements in a Python list.\n",
    "\n",
    "For example, imagine that you have a list of your favorite songs, with each song represented as an element in the list. You can access and manipulate the elements in the list to create your perfect playlist. You can add new songs to the list, remove songs that you don't like, or rearrange the order of songs to create the perfect flow.\n",
    "\n",
    "And just like how you can customize your plate at the buffet to suit your tastes, you can customize your Python list to suit your needs. You can access and manipulate the elements to create a list that's tailored to your specific use case."
   ]
  },
  {
   "cell_type": "code",
   "execution_count": 22,
   "id": "21561471",
   "metadata": {},
   "outputs": [
    {
     "name": "stdout",
     "output_type": "stream",
     "text": [
      "['maths', 'computer', 'history']\n"
     ]
    }
   ],
   "source": [
    "Book=['maths','geography','history']\n",
    "Book[1]='computer'\n",
    "print(Book)"
   ]
  },
  {
   "cell_type": "code",
   "execution_count": null,
   "id": "31b312c4",
   "metadata": {},
   "outputs": [],
   "source": []
  },
  {
   "cell_type": "code",
   "execution_count": null,
   "id": "d6b37498",
   "metadata": {},
   "outputs": [],
   "source": []
  },
  {
   "cell_type": "markdown",
   "id": "b3978957",
   "metadata": {},
   "source": [
    "<i><b>Let's say you're organizing a movie night with some friends, and you want to create a list of all the movies you'll be watching. You start with an empty list, like this:\n",
    "\n"
   ]
  },
  {
   "cell_type": "code",
   "execution_count": 28,
   "id": "50683abd",
   "metadata": {},
   "outputs": [
    {
     "name": "stdout",
     "output_type": "stream",
     "text": [
      "['war', 'crazy4', 'veere', 'race']\n",
      "['war', 'crazy4', 'race']\n"
     ]
    }
   ],
   "source": [
    "Movies=['war','crazy4','veere']\n",
    "Movies.append('race')\n",
    "print(Movies)\n",
    "Movies.remove('veere')\n",
    "print(Movies)"
   ]
  },
  {
   "cell_type": "markdown",
   "id": "09a974a3",
   "metadata": {},
   "source": [
    "- Now, you can use the `append()` method to add movies to the list. For example:"
   ]
  },
  {
   "cell_type": "code",
   "execution_count": null,
   "id": "22e82376",
   "metadata": {},
   "outputs": [],
   "source": []
  },
  {
   "cell_type": "markdown",
   "id": "b03ca16a",
   "metadata": {},
   "source": [
    "Now the `movies` list looks like this:"
   ]
  },
  {
   "cell_type": "code",
   "execution_count": null,
   "id": "3876ede0",
   "metadata": {},
   "outputs": [],
   "source": []
  },
  {
   "cell_type": "markdown",
   "id": "728552e1",
   "metadata": {},
   "source": [
    "But what if you change your mind about one of the movies, or want to rearrange the order of the list? That's where accessing and manipulating list elements comes in handy.\n",
    "\n",
    "To remove a movie from the list, you can use the `remove()` method. For example, let's say you decide to remove **\"The Godfather\":**"
   ]
  },
  {
   "cell_type": "code",
   "execution_count": null,
   "id": "3323617e",
   "metadata": {},
   "outputs": [],
   "source": []
  },
  {
   "cell_type": "markdown",
   "id": "bec95453",
   "metadata": {},
   "source": [
    "Now the `movies` list looks like this:"
   ]
  },
  {
   "cell_type": "code",
   "execution_count": null,
   "id": "e865c7ac",
   "metadata": {},
   "outputs": [],
   "source": []
  },
  {
   "cell_type": "markdown",
   "id": "c5a39992",
   "metadata": {},
   "source": [
    "To rearrange the order of the list, you can use the `index` of each element. For example, let's say you want to move **\"The Dark Knight\"** to the beginning of the list:"
   ]
  },
  {
   "cell_type": "code",
   "execution_count": null,
   "id": "21ac50f1",
   "metadata": {},
   "outputs": [],
   "source": []
  },
  {
   "cell_type": "markdown",
   "id": "306a3c38",
   "metadata": {},
   "source": [
    "By accessing and manipulating list elements, you can create a list that's perfectly tailored to your needs. Whether you're organizing a movie night with friends or building a complex software application, mastering this skill will help you work with collections of data more effectively and efficiently."
   ]
  },
  {
   "cell_type": "markdown",
   "id": "5c709265",
   "metadata": {
    "heading_collapsed": true
   },
   "source": [
    "# Common list methods and functions"
   ]
  },
  {
   "cell_type": "markdown",
   "id": "d04a02f8",
   "metadata": {
    "hidden": true
   },
   "source": [
    "Picture this: There is this group of friends who loved to play board games together. They had a large collection of games, but they often forgot which games they owned or which games they had played recently. Luckly their mentor had taught them to use python Lists."
   ]
  },
  {
   "cell_type": "markdown",
   "id": "4eb3a7e5",
   "metadata": {
    "hidden": true
   },
   "source": [
    "1. `append()`: Adds an element to the end of the list. Example.\n",
    "\n",
    "<p style=\"color:green\">First, they created an empty list to store their games. They used the append() method to add new games to the list as they acquired them.</p>\n",
    "\n",
    "\n"
   ]
  },
  {
   "cell_type": "code",
   "execution_count": 31,
   "id": "63c70912",
   "metadata": {
    "hidden": true
   },
   "outputs": [
    {
     "name": "stdout",
     "output_type": "stream",
     "text": [
      "['circket', 'football', 'batminton', 'pool']\n"
     ]
    }
   ],
   "source": [
    "games=['circket','football','batminton']\n",
    "games.append('pool')\n",
    "print(games)"
   ]
  },
  {
   "cell_type": "markdown",
   "id": "1e317cc7",
   "metadata": {
    "hidden": true
   },
   "source": [
    "2. `insert()`: Adds an element at a specific index in the list. Example:\n",
    "\n",
    "<p style=\"color:green\"> Then, they used the insert() method to add a game at a specific position in the list. For example, they could add a new game to the top of the list if it was one they were excited to play.</p>"
   ]
  },
  {
   "cell_type": "code",
   "execution_count": 42,
   "id": "69c66548",
   "metadata": {
    "hidden": true
   },
   "outputs": [
    {
     "name": "stdout",
     "output_type": "stream",
     "text": [
      "['circket', 'football', 'valley ball', 'valley ball', 'valleyball', 'batminton', 'valleyball', 'batminton', 'valleyball', 'batminton', 'valleyball']\n",
      "['circket', 'football', 'valley ball', 'valley ball', 'valleyball', 'batminton', 'valleyball', 'batminton', 'valleyball', 'batminton', 'valleyball', 'batminton']\n",
      "['circket', 'football', 'valley ball', 'valleyball', 'batminton', 'batminton', 'valleyball', 'batminton', 'batminton']\n"
     ]
    }
   ],
   "source": [
    "games.append('valleyball')\n",
    "print(games)\n",
    "games.append('batminton')\n",
    "print(games)\n",
    "del(games[2::4])\n",
    "print(games)"
   ]
  },
  {
   "cell_type": "code",
   "execution_count": 44,
   "id": "3ba003c2",
   "metadata": {},
   "outputs": [
    {
     "name": "stdout",
     "output_type": "stream",
     "text": [
      "['circket', 'football', 'valley ball', 'valleyball', 'batminton', 'batminton', 'valleyball', 'batminton', 'batminton', 1, 2, 3, 4, 1, 2, 3, 4]\n"
     ]
    }
   ],
   "source": [
    "games2=[1,2,3,4]\n",
    "games.extend(games2)\n",
    "print(games)"
   ]
  },
  {
   "cell_type": "markdown",
   "id": "2780e823",
   "metadata": {
    "hidden": true
   },
   "source": [
    "3. `extend()`: Adds the elements of one list to another. Example\n",
    "\n",
    "<p style=\"color:green\"> they used the insert() method to add a game at a specific position in the list. For example, they could add a new game to the top of the list if it was one they were excited to play."
   ]
  },
  {
   "cell_type": "code",
   "execution_count": 56,
   "id": "91ff8fae",
   "metadata": {
    "hidden": true
   },
   "outputs": [
    {
     "name": "stdout",
     "output_type": "stream",
     "text": [
      "['circket', 'valley ball', 'batminton', 'batminton', 'batminton', 'batminton', 1, 2, 3, 4, 1, 2, 3, 4]\n"
     ]
    }
   ],
   "source": [
    "games.remove('football')\n",
    "print(games)"
   ]
  },
  {
   "cell_type": "markdown",
   "id": "c1f79c89",
   "metadata": {
    "hidden": true
   },
   "source": [
    "4. `remove()`: Removes the first occurrence of an element from the list. \n",
    "\n",
    "<p style=\"color:green\">\n",
    "To remove games from the list, they used the remove() method. They could easily remove a game from the list if they had given it away or sold it."
   ]
  },
  {
   "cell_type": "code",
   "execution_count": 57,
   "id": "98494833",
   "metadata": {
    "hidden": true
   },
   "outputs": [
    {
     "name": "stdout",
     "output_type": "stream",
     "text": [
      "['circket', 'valley ball', 'batminton', 'batminton', 'batminton', 'batminton', 1, 2, 3, 4, 1, 2, 3, 4]\n"
     ]
    }
   ],
   "source": [
    "games.pop\n",
    "print(games)"
   ]
  },
  {
   "cell_type": "markdown",
   "id": "d9163a4e",
   "metadata": {
    "hidden": true
   },
   "source": [
    "5. `pop()`: Removes and returns an element at a specific index in the list. Example:\n",
    "\n",
    "<p style=\"color:green\">\n",
    "They also used the pop() method to remove a game from a specific position in the list. This was useful if they wanted to remove a game that was no longer relevant to them."
   ]
  },
  {
   "cell_type": "code",
   "execution_count": 18,
   "id": "51fdef97",
   "metadata": {
    "hidden": true
   },
   "outputs": [
    {
     "name": "stdout",
     "output_type": "stream",
     "text": [
      "['bat', 'ball', 'cat', 'rat']\n",
      "['ball', 'bat', 'cat', 'rat']\n"
     ]
    }
   ],
   "source": [
    "anything=['bat','ball','cat','rat']\n",
    "print(anything)\n",
    "anything.sort()\n",
    "print(anything)"
   ]
  },
  {
   "cell_type": "markdown",
   "id": "0963fe47",
   "metadata": {
    "hidden": true
   },
   "source": [
    "6. `sort()`: Sorts the elements of the list in ascending order. Example:\n",
    "\n",
    "<p style=\"color:green\">\n",
    "To sort their game collection, they used the sort() method. They could sort their games alphabetically by title or by the year they were released."
   ]
  },
  {
   "cell_type": "code",
   "execution_count": 16,
   "id": "dd89013d",
   "metadata": {
    "hidden": true
   },
   "outputs": [
    {
     "name": "stdout",
     "output_type": "stream",
     "text": [
      "['rat', 'cat', 'bat', 'ball']\n"
     ]
    }
   ],
   "source": [
    "anything.reverse()\n",
    "print(anything)"
   ]
  },
  {
   "cell_type": "markdown",
   "id": "1e60ebfe",
   "metadata": {
    "hidden": true
   },
   "source": [
    "7. `reverse()`: Reverses the order of the elements in the list. Example:\n",
    "\n",
    "<p style=\"color:green\">\n",
    "They also used the reverse() method to reverse the order of the list. This was useful if they wanted to see their games in reverse chronological order."
   ]
  },
  {
   "cell_type": "code",
   "execution_count": 21,
   "id": "d5ad4081",
   "metadata": {
    "hidden": true
   },
   "outputs": [
    {
     "data": {
      "text/plain": [
       "[5, 4]"
      ]
     },
     "execution_count": 21,
     "metadata": {},
     "output_type": "execute_result"
    }
   ],
   "source": [
    "L=[1,2,3,4,5]\n",
    "L[-1:-3:-1]\n",
    "# print(L)"
   ]
  },
  {
   "cell_type": "markdown",
   "id": "37d1feca",
   "metadata": {
    "hidden": true
   },
   "source": [
    "8. `index()`: Returns the index of the first occurrence of an element in the list. Example:\n",
    "\n",
    "<p style=\"color:green\">\n",
    "    To find the index of a game in the list, they used the index() method. They could quickly find a game in their collection if they were looking for it."
   ]
  },
  {
   "cell_type": "code",
   "execution_count": null,
   "id": "e8e79fd5",
   "metadata": {
    "hidden": true
   },
   "outputs": [],
   "source": []
  },
  {
   "cell_type": "markdown",
   "id": "04ba5119",
   "metadata": {
    "hidden": true
   },
   "source": [
    "9. `count()`: Returns the number of times an element appears in the list. Example:\n",
    "\n",
    "<p style=\"color:green\">\n",
    "To count the number of times a game appeared in the list, they used the count() method. This was useful if they wanted to see which games they played the most."
   ]
  },
  {
   "cell_type": "code",
   "execution_count": null,
   "id": "345becd2",
   "metadata": {
    "hidden": true
   },
   "outputs": [],
   "source": []
  },
  {
   "cell_type": "markdown",
   "id": "6588c144",
   "metadata": {
    "hidden": true
   },
   "source": [
    "10. `copy()`: creates a new copy of a list with the same elements. Example\n",
    "\n",
    "<p style=\"color:green\">\n",
    "They also used the copy() method to make a copy of the list. This was useful if they wanted to experiment with their list without modifying the original."
   ]
  },
  {
   "cell_type": "code",
   "execution_count": null,
   "id": "6f2413be",
   "metadata": {
    "hidden": true
   },
   "outputs": [],
   "source": []
  },
  {
   "cell_type": "markdown",
   "id": "34e4c393",
   "metadata": {
    "hidden": true
   },
   "source": [
    "11. `clear()`: removes all elements from a list. Example\n",
    "\n",
    "<p style=\"color:green\">\n",
    "Finally, they used the clear() method to remove all games from the list. This was useful if they wanted to start fresh with a new collection."
   ]
  },
  {
   "cell_type": "code",
   "execution_count": null,
   "id": "fe519d2b",
   "metadata": {
    "hidden": true
   },
   "outputs": [],
   "source": []
  },
  {
   "cell_type": "markdown",
   "id": "0e766fd5",
   "metadata": {
    "hidden": true
   },
   "source": [
    "###### Some Additional python functions"
   ]
  },
  {
   "cell_type": "markdown",
   "id": "76c0e763",
   "metadata": {
    "heading_collapsed": true
   },
   "source": [
    "# Python Built-in Functions for Lists"
   ]
  },
  {
   "cell_type": "markdown",
   "id": "678ce237",
   "metadata": {
    "hidden": true
   },
   "source": [
    "\n",
    "Some useful built-in functions that can be used with Python lists:\n",
    "\n",
    "| Function   | Description                                         |\n",
    "|:------------|:-----------------------------------------------------|\n",
    "| len()      | Returns the number of elements in a list.           |\n",
    "| max()      | Returns the maximum value of a list.                |\n",
    "| min()      | Returns the minimum value of a list.                |\n",
    "| sorted()   | Returns a sorted list.                              |\n",
    "| reversed() | Returns a reversed list.                            |\n"
   ]
  },
  {
   "cell_type": "code",
   "execution_count": null,
   "id": "c4666265",
   "metadata": {
    "hidden": true
   },
   "outputs": [],
   "source": []
  }
 ],
 "metadata": {
  "kernelspec": {
   "display_name": "Python 3 (ipykernel)",
   "language": "python",
   "name": "python3"
  },
  "language_info": {
   "codemirror_mode": {
    "name": "ipython",
    "version": 3
   },
   "file_extension": ".py",
   "mimetype": "text/x-python",
   "name": "python",
   "nbconvert_exporter": "python",
   "pygments_lexer": "ipython3",
   "version": "3.10.9"
  },
  "vp": {
   "vp_config_version": "1.0.0",
   "vp_menu_width": 273,
   "vp_note_display": false,
   "vp_note_width": 0,
   "vp_position": {
    "width": 278
   },
   "vp_section_display": false,
   "vp_signature": "VisualPython"
  }
 },
 "nbformat": 4,
 "nbformat_minor": 5
}
